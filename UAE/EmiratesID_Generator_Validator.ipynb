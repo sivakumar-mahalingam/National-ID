{
 "cells": [
  {
   "cell_type": "markdown",
   "id": "e332e98a",
   "metadata": {},
   "source": [
    "# Emirates ID generator and validator"
   ]
  },
  {
   "cell_type": "code",
   "execution_count": 1,
   "id": "efa035b4",
   "metadata": {},
   "outputs": [],
   "source": [
    "import random"
   ]
  },
  {
   "cell_type": "code",
   "execution_count": 2,
   "id": "881878db",
   "metadata": {},
   "outputs": [],
   "source": [
    "def generate_luhn_number(length):\n",
    "    # Generate random digits for the number (excluding the last digit)\n",
    "    digits = [random.randint(0, 9) for _ in range(length - 1)]\n",
    "\n",
    "    # Calculate the Luhn algorithm check digit\n",
    "    check_digit = calculate_luhn_check_digit(digits)\n",
    "\n",
    "    # Append the check digit to the number\n",
    "    number = digits + [check_digit]\n",
    "\n",
    "    # Convert the digits to a string\n",
    "    number_string = ''.join(str(digit) for digit in number)\n",
    "\n",
    "    return number_string"
   ]
  },
  {
   "cell_type": "code",
   "execution_count": 3,
   "id": "0265ea3f",
   "metadata": {},
   "outputs": [],
   "source": [
    "def calculate_luhn_check_digit(digits):\n",
    "    # Double every second digit (starting from the rightmost digit)\n",
    "    doubled_digits = [(int(digit) * 2) if (i % 2 == len(digits) % 2) else int(digit) for i, digit in enumerate(digits)]\n",
    "\n",
    "    # Subtract 9 from digits greater than 9\n",
    "    subtracted_digits = [digit - 9 if digit > 9 else digit for digit in doubled_digits]\n",
    "\n",
    "    # Calculate the sum of all digits\n",
    "    digit_sum = sum(subtracted_digits)\n",
    "\n",
    "    # Find the smallest digit that makes the sum a multiple of 10\n",
    "    check_digit = (10 - (digit_sum % 10)) % 10\n",
    "\n",
    "    return check_digit"
   ]
  },
  {
   "cell_type": "code",
   "execution_count": 4,
   "id": "9493cbf4",
   "metadata": {
    "scrolled": true
   },
   "outputs": [
    {
     "name": "stdout",
     "output_type": "stream",
     "text": [
      "Enter your birth year: 1991\n",
      "\n",
      "Luhn Number: 8434964\n",
      "Luhn Check Digit: 7\n",
      "\n",
      "Your Emirates ID: 784-1991-8434964-7\n"
     ]
    }
   ],
   "source": [
    "birth_year = input(\"Enter your birth year: \")\n",
    "\n",
    "# Example usage\n",
    "luhn_number = generate_luhn_number(7)\n",
    "print(\"\\nLuhn Number: \" + str(luhn_number))\n",
    "\n",
    "luhn_check_digit = calculate_luhn_check_digit(str(luhn_number))\n",
    "print(\"Luhn Check Digit: \" + str(luhn_check_digit))\n",
    "\n",
    "print(\"\\nYour Emirates ID: \" + \"784-\" + birth_year + \"-\" + str(luhn_number) + \"-\" + str(luhn_check_digit))"
   ]
  },
  {
   "cell_type": "code",
   "execution_count": 5,
   "id": "793aa040",
   "metadata": {},
   "outputs": [],
   "source": [
    "def is_valid(number, checksum):\n",
    "    generated_checksum = calculate_luhn_check_digit(number)\n",
    "    return generated_checksum == checksum"
   ]
  },
  {
   "cell_type": "code",
   "execution_count": 6,
   "id": "de8011c5",
   "metadata": {},
   "outputs": [
    {
     "name": "stdout",
     "output_type": "stream",
     "text": [
      "Enter your Emirates ID to validate: 784-1991-8434964-7\n",
      "Emirates ID is valid\n"
     ]
    }
   ],
   "source": [
    "emirates_id = input(\"Enter your Emirates ID to validate: \")\n",
    "\n",
    "# Get Luhn Number\n",
    "luhn_number = emirates_id.replace('-','')[7:14]\n",
    "# Get Luhn Checksum Digit\n",
    "luhn_check_digit = int(emirates_id.replace('-','')[14:])\n",
    "\n",
    "if is_valid(luhn_number, luhn_check_digit):\n",
    "    print(\"Emirates ID is valid\")\n",
    "else:\n",
    "    print(\"Emirates ID is not valid\")"
   ]
  }
 ],
 "metadata": {
  "kernelspec": {
   "display_name": "Python 3 (ipykernel)",
   "language": "python",
   "name": "python3"
  },
  "language_info": {
   "codemirror_mode": {
    "name": "ipython",
    "version": 3
   },
   "file_extension": ".py",
   "mimetype": "text/x-python",
   "name": "python",
   "nbconvert_exporter": "python",
   "pygments_lexer": "ipython3",
   "version": "3.8.0"
  }
 },
 "nbformat": 4,
 "nbformat_minor": 5
}
